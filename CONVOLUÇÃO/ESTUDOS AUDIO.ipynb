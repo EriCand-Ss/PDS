{
 "cells": [
  {
   "cell_type": "code",
   "execution_count": 33,
   "id": "004c33b6",
   "metadata": {},
   "outputs": [],
   "source": [
    "import numpy as np\n",
    "import scipy.io.wavfile as wav\n",
    "import FFT"
   ]
  },
  {
   "cell_type": "code",
   "execution_count": null,
   "id": "c89abf19",
   "metadata": {},
   "outputs": [],
   "source": [
    "fs, audio = wav.read('PDS.wav')  \n",
    "\n",
    "if audio.dtype != np.float32:\n",
    "    audio = audio / np.iinfo(audio.dtype).max"
   ]
  },
  {
   "cell_type": "markdown",
   "id": "915441a2",
   "metadata": {},
   "source": [
    "## Eco"
   ]
  },
  {
   "cell_type": "code",
   "execution_count": 35,
   "id": "546e9505",
   "metadata": {},
   "outputs": [],
   "source": [
    "atraso = 5000 \n",
    "atenuacao = 0.6 # volume do eco\n",
    "\n",
    "eco = np.zeros(atraso + 1)\n",
    "eco[0] = 1           # som original\n",
    "eco[atraso] = atenuacao  # eco atrasado"
   ]
  },
  {
   "cell_type": "code",
   "execution_count": 36,
   "id": "f558a3b4",
   "metadata": {},
   "outputs": [],
   "source": [
    "audio_com_eco = FFT.convolucao(audio, eco)"
   ]
  },
  {
   "cell_type": "code",
   "execution_count": 37,
   "id": "e9dd3c32",
   "metadata": {},
   "outputs": [
    {
     "name": "stderr",
     "output_type": "stream",
     "text": [
      "C:\\Users\\gson5\\AppData\\Local\\Temp\\ipykernel_34248\\1629241405.py:2: ComplexWarning: Casting complex values to real discards the imaginary part\n",
      "  audio_com_eco = np.int16(audio_com_eco / np.max(np.abs(audio_com_eco)) * 32767)\n"
     ]
    }
   ],
   "source": [
    "# Reescala para int16 se for salvar como WAV padrão\n",
    "audio_com_eco = np.int16(audio_com_eco / np.max(np.abs(audio_com_eco)) * 32767)\n",
    "wav.write('audio_com_eco.wav', fs, audio_com_eco)"
   ]
  },
  {
   "cell_type": "markdown",
   "id": "8d239f65",
   "metadata": {},
   "source": [
    "## Reverb"
   ]
  },
  {
   "cell_type": "code",
   "execution_count": 38,
   "id": "450f2b6e",
   "metadata": {},
   "outputs": [
    {
     "name": "stderr",
     "output_type": "stream",
     "text": [
      "C:\\Users\\gson5\\AppData\\Local\\Temp\\ipykernel_34248\\698313618.py:1: WavFileWarning: Chunk (non-data) not understood, skipping it.\n",
      "  fs_ir, rir = wav.read(\"1st_baptist_nashville_far_close.wav\")\n"
     ]
    }
   ],
   "source": [
    "fs_ir, rir = wav.read(\"1st_baptist_nashville_far_close.wav\")\n",
    "rir = rir.astype(np.float32) / np.max(np.abs(rir))\n",
    "\n",
    "rir_esquerdo = rir[:,0]\n",
    "rir_direito = rir[:,1]\n"
   ]
  },
  {
   "cell_type": "code",
   "execution_count": 39,
   "id": "2f57284a",
   "metadata": {},
   "outputs": [],
   "source": [
    "audio_com_reverb = FFT.convolucao(rir_esquerdo, audio)[0:len(audio)]"
   ]
  },
  {
   "cell_type": "code",
   "execution_count": 40,
   "id": "109b2836",
   "metadata": {},
   "outputs": [
    {
     "name": "stderr",
     "output_type": "stream",
     "text": [
      "C:\\Users\\gson5\\AppData\\Local\\Temp\\ipykernel_34248\\4058220480.py:2: ComplexWarning: Casting complex values to real discards the imaginary part\n",
      "  audio_com_reverb = np.int16(audio_com_reverb / np.max(np.abs(audio_com_reverb)) * 32767)\n"
     ]
    }
   ],
   "source": [
    "# Reescala para int16 se for salvar como WAV padrão\n",
    "audio_com_reverb = np.int16(audio_com_reverb / np.max(np.abs(audio_com_reverb)) * 32767)\n",
    "wav.write('audio_com_reverb.wav', fs, audio_com_reverb)"
   ]
  }
 ],
 "metadata": {
  "kernelspec": {
   "display_name": "Python 3",
   "language": "python",
   "name": "python3"
  },
  "language_info": {
   "codemirror_mode": {
    "name": "ipython",
    "version": 3
   },
   "file_extension": ".py",
   "mimetype": "text/x-python",
   "name": "python",
   "nbconvert_exporter": "python",
   "pygments_lexer": "ipython3",
   "version": "3.11.9"
  }
 },
 "nbformat": 4,
 "nbformat_minor": 5
}
