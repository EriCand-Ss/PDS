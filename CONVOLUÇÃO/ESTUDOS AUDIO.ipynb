{
 "cells": [
  {
   "cell_type": "code",
   "execution_count": 3,
   "id": "004c33b6",
   "metadata": {},
   "outputs": [],
   "source": [
    "import numpy as np\n",
    "import scipy.io.wavfile as wav\n",
    "import FFT"
   ]
  },
  {
   "cell_type": "code",
   "execution_count": 2,
   "id": "c89abf19",
   "metadata": {},
   "outputs": [],
   "source": [
    "fs, audio = wav.read('PDS.wav')  \n",
    "\n",
    "if audio.dtype != np.float32:\n",
    "    audio = audio / np.iinfo(audio.dtype).max"
   ]
  },
  {
   "cell_type": "markdown",
   "id": "915441a2",
   "metadata": {},
   "source": [
    "## Eco"
   ]
  },
  {
   "cell_type": "code",
   "execution_count": 3,
   "id": "546e9505",
   "metadata": {},
   "outputs": [],
   "source": [
    "atraso = 5000 \n",
    "atenuacao = 0.6 # volume do eco\n",
    "\n",
    "eco = np.zeros(atraso + 1)\n",
    "eco[0] = 1           # som original\n",
    "eco[atraso] = atenuacao  # eco atrasado"
   ]
  },
  {
   "cell_type": "code",
   "execution_count": 4,
   "id": "f558a3b4",
   "metadata": {},
   "outputs": [
    {
     "ename": "KeyboardInterrupt",
     "evalue": "",
     "output_type": "error",
     "traceback": [
      "\u001b[1;31m---------------------------------------------------------------------------\u001b[0m",
      "\u001b[1;31mKeyboardInterrupt\u001b[0m                         Traceback (most recent call last)",
      "Cell \u001b[1;32mIn[4], line 1\u001b[0m\n\u001b[1;32m----> 1\u001b[0m audio_com_eco \u001b[38;5;241m=\u001b[39m \u001b[43mFFT\u001b[49m\u001b[38;5;241;43m.\u001b[39;49m\u001b[43mconvolucao\u001b[49m\u001b[43m(\u001b[49m\u001b[43maudio\u001b[49m\u001b[43m,\u001b[49m\u001b[43m \u001b[49m\u001b[43meco\u001b[49m\u001b[43m)\u001b[49m\n",
      "File \u001b[1;32mc:\\Users\\gson5\\Downloads\\PDS\\CONVOLUÇÃO\\FFT.py:116\u001b[0m, in \u001b[0;36mconvolucao\u001b[1;34m(x1, x2)\u001b[0m\n\u001b[0;32m    113\u001b[0m x1 \u001b[38;5;241m=\u001b[39m np\u001b[38;5;241m.\u001b[39mappend(x1, np\u001b[38;5;241m.\u001b[39mzeros(zeros_x1))\n\u001b[0;32m    114\u001b[0m x2 \u001b[38;5;241m=\u001b[39m np\u001b[38;5;241m.\u001b[39mappend(x2, np\u001b[38;5;241m.\u001b[39mzeros(zeros_x2))\n\u001b[1;32m--> 116\u001b[0m FFT_x1 \u001b[38;5;241m=\u001b[39m \u001b[43mfft_completa\u001b[49m\u001b[43m(\u001b[49m\u001b[43mx1\u001b[49m\u001b[43m)\u001b[49m\n\u001b[0;32m    117\u001b[0m FFT_x2 \u001b[38;5;241m=\u001b[39m fft_completa(x2)\n\u001b[0;32m    119\u001b[0m convolucao \u001b[38;5;241m=\u001b[39m fft_inversa_completa(FFT_x1 \u001b[38;5;241m*\u001b[39m FFT_x2)[\u001b[38;5;241m0\u001b[39m:M]\n",
      "File \u001b[1;32mc:\\Users\\gson5\\Downloads\\PDS\\CONVOLUÇÃO\\FFT.py:99\u001b[0m, in \u001b[0;36mfft_completa\u001b[1;34m(y)\u001b[0m\n\u001b[0;32m     98\u001b[0m \u001b[38;5;28;01mdef\u001b[39;00m\u001b[38;5;250m \u001b[39m\u001b[38;5;21mfft_completa\u001b[39m(y):\n\u001b[1;32m---> 99\u001b[0m     y_reordenado \u001b[38;5;241m=\u001b[39m \u001b[43mreordenar\u001b[49m\u001b[43m(\u001b[49m\u001b[43my\u001b[49m\u001b[43m)\u001b[49m\n\u001b[0;32m    100\u001b[0m     FFT \u001b[38;5;241m=\u001b[39m functionFFT(y_reordenado)\n\u001b[0;32m    101\u001b[0m     \u001b[38;5;28;01mreturn\u001b[39;00m FFT\n",
      "File \u001b[1;32mc:\\Users\\gson5\\Downloads\\PDS\\CONVOLUÇÃO\\FFT.py:27\u001b[0m, in \u001b[0;36mreordenar\u001b[1;34m(y)\u001b[0m\n\u001b[0;32m     23\u001b[0m qtd_zeros_binario \u001b[38;5;241m=\u001b[39m \u001b[38;5;28mint\u001b[39m(np\u001b[38;5;241m.\u001b[39mlog2(\u001b[38;5;28mlen\u001b[39m(y))) \u001b[38;5;241m-\u001b[39m \u001b[38;5;28mlen\u001b[39m(\u001b[38;5;28mbin\u001b[39m(i)[\u001b[38;5;241m2\u001b[39m:]) \n\u001b[0;32m     25\u001b[0m indice_em_binario \u001b[38;5;241m=\u001b[39m \u001b[38;5;28mbin\u001b[39m(i)[\u001b[38;5;241m2\u001b[39m:]\n\u001b[1;32m---> 27\u001b[0m \u001b[38;5;28;01mfor\u001b[39;00m j \u001b[38;5;129;01min\u001b[39;00m \u001b[38;5;28mrange\u001b[39m(\u001b[38;5;28mint\u001b[39m(qtd_zeros_binario)):\n\u001b[0;32m     28\u001b[0m     \u001b[38;5;66;03m#Preenche com zeros a esquerda\u001b[39;00m\n\u001b[0;32m     29\u001b[0m     indice_em_binario \u001b[38;5;241m=\u001b[39m \u001b[38;5;124m'\u001b[39m\u001b[38;5;124m0\u001b[39m\u001b[38;5;124m'\u001b[39m \u001b[38;5;241m+\u001b[39m indice_em_binario\n\u001b[0;32m     31\u001b[0m \u001b[38;5;66;03m#Aqui eh feita a inversao dos bits, ou seja, 0101 (5) vira 1010 (10) e depois é convertido para decimal. \u001b[39;00m\n",
      "\u001b[1;31mKeyboardInterrupt\u001b[0m: "
     ]
    }
   ],
   "source": [
    "audio_com_eco = FFT.convolucao(audio, eco)"
   ]
  },
  {
   "cell_type": "code",
   "execution_count": null,
   "id": "e9dd3c32",
   "metadata": {},
   "outputs": [
    {
     "name": "stderr",
     "output_type": "stream",
     "text": [
      "C:\\Users\\gson5\\AppData\\Local\\Temp\\ipykernel_42976\\1629241405.py:2: ComplexWarning: Casting complex values to real discards the imaginary part\n",
      "  audio_com_eco = np.int16(audio_com_eco / np.max(np.abs(audio_com_eco)) * 32767)\n"
     ]
    }
   ],
   "source": [
    "# Reescala para int16 se for salvar como WAV padrão\n",
    "audio_com_eco = np.int16(audio_com_eco / np.max(np.abs(audio_com_eco)) * 32767)\n",
    "wav.write('audio_com_eco.wav', fs, audio_com_eco)"
   ]
  },
  {
   "cell_type": "markdown",
   "id": "8d239f65",
   "metadata": {},
   "source": [
    "## Reverb"
   ]
  },
  {
   "cell_type": "code",
   "execution_count": null,
   "id": "450f2b6e",
   "metadata": {},
   "outputs": [
    {
     "name": "stderr",
     "output_type": "stream",
     "text": [
      "C:\\Users\\gson5\\AppData\\Local\\Temp\\ipykernel_42976\\698313618.py:1: WavFileWarning: Chunk (non-data) not understood, skipping it.\n",
      "  fs_ir, rir = wav.read(\"1st_baptist_nashville_far_close.wav\")\n"
     ]
    }
   ],
   "source": [
    "fs_ir, rir = wav.read(\"1st_baptist_nashville_far_close.wav\")\n",
    "rir = rir.astype(np.float32) / np.max(np.abs(rir))\n",
    "\n",
    "rir_esquerdo = rir[:,0]\n",
    "rir_direito = rir[:,1]\n"
   ]
  },
  {
   "cell_type": "code",
   "execution_count": null,
   "id": "2f57284a",
   "metadata": {},
   "outputs": [],
   "source": [
    "audio_com_reverb = FFT.convolucao(rir_esquerdo, audio)[0:len(audio)]"
   ]
  },
  {
   "cell_type": "code",
   "execution_count": null,
   "id": "109b2836",
   "metadata": {},
   "outputs": [
    {
     "name": "stderr",
     "output_type": "stream",
     "text": [
      "C:\\Users\\gson5\\AppData\\Local\\Temp\\ipykernel_42976\\4058220480.py:2: ComplexWarning: Casting complex values to real discards the imaginary part\n",
      "  audio_com_reverb = np.int16(audio_com_reverb / np.max(np.abs(audio_com_reverb)) * 32767)\n"
     ]
    }
   ],
   "source": [
    "# Reescala para int16 se for salvar como WAV padrão\n",
    "audio_com_reverb = np.int16(audio_com_reverb / np.max(np.abs(audio_com_reverb)) * 32767)\n",
    "wav.write('audio_com_reverb.wav', fs, audio_com_reverb)"
   ]
  },
  {
   "cell_type": "markdown",
   "id": "48335262",
   "metadata": {},
   "source": [
    "## Vetor de frequências"
   ]
  },
  {
   "cell_type": "markdown",
   "id": "8dca43b4",
   "metadata": {},
   "source": [
    "$$\n",
    "\\Delta f = \\frac{f_s}{N}\n",
    "$$"
   ]
  },
  {
   "cell_type": "code",
   "execution_count": null,
   "id": "dc10db1e",
   "metadata": {},
   "outputs": [
    {
     "data": {
      "text/plain": [
       "Text(0.5, 0, 'f (Hz)')"
      ]
     },
     "execution_count": 42,
     "metadata": {},
     "output_type": "execute_result"
    },
    {
     "data": {
      "image/png": "[encoded data removed]",
      "text/plain": [
       "<Figure size 640x480 with 1 Axes>"
      ]
     },
     "metadata": {},
     "output_type": "display_data"
    }
   ],
   "source": [
    "import matplotlib.pyplot as plt\n",
    "\n",
    "def frequencia(fs, x_fft):\n",
    "    N = len(x_fft)\n",
    "    frequencias = np.zeros(N//2)\n",
    "    for i in range(N//2):\n",
    "        frequencias[i] = fs/N * i\n",
    "    return frequencias\n",
    "\n",
    "x= [1,1,1,1,0,0,0,0,0,0,0,0,0,0,0,0,0,0,0,0,0,0,0,0,0,0,0,0,0,0,0,0,0,0]\n",
    "x_fft = FFT.fft_completa(x)\n",
    "frequencias = frequencia(10,x_fft)\n",
    "plt.stem(frequencias,abs(x_fft)[0:len(x_fft)//2])\n",
    "plt.xlabel(\"f (Hz)\")"
   ]
  },
  {
   "cell_type": "code",
   "execution_count": null,
   "id": "9f9d9927",
   "metadata": {},
   "outputs": [],
   "source": []
  }
 ],
 "metadata": {
  "kernelspec": {
   "display_name": "Python 3",
   "language": "python",
   "name": "python3"
  },
  "language_info": {
   "codemirror_mode": {
    "name": "ipython",
    "version": 3
   },
   "file_extension": ".py",
   "mimetype": "text/x-python",
   "name": "python",
   "nbconvert_exporter": "python",
   "pygments_lexer": "ipython3",
   "version": "3.11.9"
  }
 },
 "nbformat": 4,
 "nbformat_minor": 5
}
